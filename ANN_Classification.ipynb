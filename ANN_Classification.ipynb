{
  "nbformat": 4,
  "nbformat_minor": 0,
  "metadata": {
    "colab": {
      "name": "artificial_neural_network.ipynb",
      "provenance": [],
      "collapsed_sections": [],
      "include_colab_link": true
    },
    "kernelspec": {
      "name": "python3",
      "display_name": "Python 3"
    },
    "accelerator": "TPU"
  },
  "cells": [
    {
      "cell_type": "markdown",
      "metadata": {
        "id": "view-in-github",
        "colab_type": "text"
      },
      "source": [
        "<a href=\"https://colab.research.google.com/github/sajosam/deep_learning/blob/main/ANN_Classification.ipynb\" target=\"_parent\"><img src=\"https://colab.research.google.com/assets/colab-badge.svg\" alt=\"Open In Colab\"/></a>"
      ]
    },
    {
      "cell_type": "markdown",
      "metadata": {
        "id": "lP6JLo1tGNBg"
      },
      "source": [
        "# Artificial Neural Network"
      ]
    },
    {
      "cell_type": "markdown",
      "metadata": {
        "id": "gWZyYmS_UE_L"
      },
      "source": [
        "### Importing the libraries"
      ]
    },
    {
      "cell_type": "code",
      "metadata": {
        "id": "MxkJoQBkUIHC"
      },
      "source": [
        "import numpy as np\n",
        "import pandas as pd\n",
        "import tensorflow as tf\n",
        "import matplotlib.pyplot as plt"
      ],
      "execution_count": 1,
      "outputs": []
    },
    {
      "cell_type": "code",
      "metadata": {
        "id": "ZaTwK7ojXr2F",
        "colab": {
          "base_uri": "https://localhost:8080/",
          "height": 35
        },
        "outputId": "229be9e5-50ee-4c81-f9bf-2cf884742f50"
      },
      "source": [
        "tf.__version__"
      ],
      "execution_count": 2,
      "outputs": [
        {
          "output_type": "execute_result",
          "data": {
            "application/vnd.google.colaboratory.intrinsic+json": {
              "type": "string"
            },
            "text/plain": [
              "'2.6.0'"
            ]
          },
          "metadata": {},
          "execution_count": 2
        }
      ]
    },
    {
      "cell_type": "markdown",
      "metadata": {
        "id": "1E0Q3aoKUCRX"
      },
      "source": [
        "## Part 1 - Data Preprocessing"
      ]
    },
    {
      "cell_type": "markdown",
      "metadata": {
        "id": "cKWAkFVGUU0Z"
      },
      "source": [
        "### Importing the dataset"
      ]
    },
    {
      "cell_type": "code",
      "metadata": {
        "id": "MXUkhkMfU4wq"
      },
      "source": [
        "dataset = pd.read_csv('Churn_Modelling.csv')\n",
        "X = dataset.iloc[:, 3:-1].values\n",
        "y = dataset.iloc[:, -1].values"
      ],
      "execution_count": 3,
      "outputs": []
    },
    {
      "cell_type": "code",
      "metadata": {
        "id": "VYP9cQTWbzuI",
        "colab": {
          "base_uri": "https://localhost:8080/"
        },
        "outputId": "2e631e5a-794c-42b7-bcfd-2db8ba20aec4"
      },
      "source": [
        "print(X)"
      ],
      "execution_count": 4,
      "outputs": [
        {
          "output_type": "stream",
          "text": [
            "[[619 'France' 'Female' ... 1 1 101348.88]\n",
            " [608 'Spain' 'Female' ... 0 1 112542.58]\n",
            " [502 'France' 'Female' ... 1 0 113931.57]\n",
            " ...\n",
            " [709 'France' 'Female' ... 0 1 42085.58]\n",
            " [772 'Germany' 'Male' ... 1 0 92888.52]\n",
            " [792 'France' 'Female' ... 1 0 38190.78]]\n"
          ],
          "name": "stdout"
        }
      ]
    },
    {
      "cell_type": "code",
      "metadata": {
        "id": "38vKGE6Nb2RR",
        "colab": {
          "base_uri": "https://localhost:8080/"
        },
        "outputId": "1b31e1e7-ba19-4cbf-8825-6a0423eb00e8"
      },
      "source": [
        "print(y)"
      ],
      "execution_count": 5,
      "outputs": [
        {
          "output_type": "stream",
          "text": [
            "[1 0 1 ... 1 1 0]\n"
          ],
          "name": "stdout"
        }
      ]
    },
    {
      "cell_type": "markdown",
      "metadata": {
        "id": "N6bQ0UgSU-NJ"
      },
      "source": [
        "### Encoding categorical data"
      ]
    },
    {
      "cell_type": "markdown",
      "metadata": {
        "id": "le5MJreAbW52"
      },
      "source": [
        "Label Encoding the \"Gender\" column"
      ]
    },
    {
      "cell_type": "code",
      "metadata": {
        "id": "PxVKWXxLbczC"
      },
      "source": [
        "from sklearn.preprocessing import LabelEncoder\n",
        "le = LabelEncoder()\n",
        "X[:, 2] = le.fit_transform(X[:, 2])"
      ],
      "execution_count": 6,
      "outputs": []
    },
    {
      "cell_type": "code",
      "metadata": {
        "id": "-M1KboxFb6OO",
        "colab": {
          "base_uri": "https://localhost:8080/"
        },
        "outputId": "c95ddcf1-4392-4466-9815-b30501e5371a"
      },
      "source": [
        "print(X)"
      ],
      "execution_count": 7,
      "outputs": [
        {
          "output_type": "stream",
          "text": [
            "[[619 'France' 0 ... 1 1 101348.88]\n",
            " [608 'Spain' 0 ... 0 1 112542.58]\n",
            " [502 'France' 0 ... 1 0 113931.57]\n",
            " ...\n",
            " [709 'France' 0 ... 0 1 42085.58]\n",
            " [772 'Germany' 1 ... 1 0 92888.52]\n",
            " [792 'France' 0 ... 1 0 38190.78]]\n"
          ],
          "name": "stdout"
        }
      ]
    },
    {
      "cell_type": "markdown",
      "metadata": {
        "id": "CUxGZezpbMcb"
      },
      "source": [
        "One Hot Encoding the \"Geography\" column"
      ]
    },
    {
      "cell_type": "code",
      "metadata": {
        "id": "AMXC8-KMVirw"
      },
      "source": [
        "from sklearn.compose import ColumnTransformer\n",
        "from sklearn.preprocessing import OneHotEncoder\n",
        "ct = ColumnTransformer(transformers=[('encoder', OneHotEncoder(), [1])], remainder='passthrough')\n",
        "X = np.array(ct.fit_transform(X))"
      ],
      "execution_count": 8,
      "outputs": []
    },
    {
      "cell_type": "code",
      "metadata": {
        "id": "ZcxwEon-b8nV",
        "colab": {
          "base_uri": "https://localhost:8080/"
        },
        "outputId": "9cdcc78b-2e08-4372-a75e-9bb2f5100954"
      },
      "source": [
        "print(X)"
      ],
      "execution_count": 9,
      "outputs": [
        {
          "output_type": "stream",
          "text": [
            "[[1.0 0.0 0.0 ... 1 1 101348.88]\n",
            " [0.0 0.0 1.0 ... 0 1 112542.58]\n",
            " [1.0 0.0 0.0 ... 1 0 113931.57]\n",
            " ...\n",
            " [1.0 0.0 0.0 ... 0 1 42085.58]\n",
            " [0.0 1.0 0.0 ... 1 0 92888.52]\n",
            " [1.0 0.0 0.0 ... 1 0 38190.78]]\n"
          ],
          "name": "stdout"
        }
      ]
    },
    {
      "cell_type": "code",
      "metadata": {
        "colab": {
          "base_uri": "https://localhost:8080/"
        },
        "id": "1h_3ilPlEsbh",
        "outputId": "8b45c5f9-b49d-4e6e-dec4-5d7392de4fc6"
      },
      "source": [
        "X.shape"
      ],
      "execution_count": 10,
      "outputs": [
        {
          "output_type": "execute_result",
          "data": {
            "text/plain": [
              "(10000, 12)"
            ]
          },
          "metadata": {},
          "execution_count": 10
        }
      ]
    },
    {
      "cell_type": "markdown",
      "metadata": {
        "id": "vHol938cW8zd"
      },
      "source": [
        "### Splitting the dataset into the Training set and Test set"
      ]
    },
    {
      "cell_type": "code",
      "metadata": {
        "id": "Z-TDt0Y_XEfc"
      },
      "source": [
        "from sklearn.model_selection import train_test_split\n",
        "X_train, X_test, y_train, y_test = train_test_split(X, y, test_size = 0.2, random_state = 0)"
      ],
      "execution_count": 11,
      "outputs": []
    },
    {
      "cell_type": "markdown",
      "metadata": {
        "id": "RE_FcHyfV3TQ"
      },
      "source": [
        "### Feature Scaling"
      ]
    },
    {
      "cell_type": "code",
      "metadata": {
        "id": "ViCrE00rV8Sk"
      },
      "source": [
        "from sklearn.preprocessing import StandardScaler\n",
        "sc = StandardScaler()\n",
        "X_train = sc.fit_transform(X_train)\n",
        "X_test = sc.transform(X_test)"
      ],
      "execution_count": 12,
      "outputs": []
    },
    {
      "cell_type": "code",
      "metadata": {
        "id": "Kq-PVwif6glN"
      },
      "source": [
        "from tensorflow.keras.layers import Dense , InputLayer , Dropout"
      ],
      "execution_count": 13,
      "outputs": []
    },
    {
      "cell_type": "code",
      "metadata": {
        "colab": {
          "base_uri": "https://localhost:8080/"
        },
        "id": "25KJafmHE7uk",
        "outputId": "52f18d3c-5df4-47a2-996a-0de874952743"
      },
      "source": [
        "X_train.shape"
      ],
      "execution_count": 14,
      "outputs": [
        {
          "output_type": "execute_result",
          "data": {
            "text/plain": [
              "(8000, 12)"
            ]
          },
          "metadata": {},
          "execution_count": 14
        }
      ]
    },
    {
      "cell_type": "markdown",
      "metadata": {
        "id": "-zfEzkRVXIwF"
      },
      "source": [
        "## Part 2 - Building the ANN"
      ]
    },
    {
      "cell_type": "markdown",
      "metadata": {
        "id": "KvdeScabXtlB"
      },
      "source": [
        "### Initializing the ANN"
      ]
    },
    {
      "cell_type": "code",
      "metadata": {
        "id": "3dtrScHxXQox"
      },
      "source": [
        "model = tf.keras.models.Sequential()"
      ],
      "execution_count": 15,
      "outputs": []
    },
    {
      "cell_type": "code",
      "metadata": {
        "id": "bppGycBXYCQr"
      },
      "source": [
        "model.add(tf.keras.layers.Dense(units=60,input_shape=(12,),activation='relu'))"
      ],
      "execution_count": 16,
      "outputs": []
    },
    {
      "cell_type": "code",
      "metadata": {
        "id": "IZLbzddz5_sf"
      },
      "source": [
        "model.add(Dropout(rate=0.2))"
      ],
      "execution_count": 17,
      "outputs": []
    },
    {
      "cell_type": "code",
      "metadata": {
        "id": "JneR0u0sYRTd"
      },
      "source": [
        "model.add(tf.keras.layers.Dense(units=40, activation='relu'))"
      ],
      "execution_count": 18,
      "outputs": []
    },
    {
      "cell_type": "code",
      "metadata": {
        "id": "HX1y3LKm6Auk"
      },
      "source": [
        "model.add(Dropout(rate=0.2))"
      ],
      "execution_count": 19,
      "outputs": []
    },
    {
      "cell_type": "code",
      "metadata": {
        "id": "vflSSeYu6C48"
      },
      "source": [
        "model.add(tf.keras.layers.Dense(units=20, activation='relu'))\n",
        "model.add(Dropout(rate=0.2))"
      ],
      "execution_count": 20,
      "outputs": []
    },
    {
      "cell_type": "code",
      "metadata": {
        "id": "NBusaA837T8z"
      },
      "source": [
        "model.add(Dropout(rate=0.2))\n",
        "model.add(tf.keras.layers.Dense(units=10, activation='relu'))\n",
        "model.add(Dropout(rate=0.2))"
      ],
      "execution_count": 21,
      "outputs": []
    },
    {
      "cell_type": "code",
      "metadata": {
        "id": "Cn3x41RBYfvY"
      },
      "source": [
        "model.add(tf.keras.layers.Dense(units=1, activation='sigmoid'))"
      ],
      "execution_count": 22,
      "outputs": []
    },
    {
      "cell_type": "markdown",
      "metadata": {
        "id": "JT4u2S1_Y4WG"
      },
      "source": [
        "## Part 3 - Training the ANN"
      ]
    },
    {
      "cell_type": "markdown",
      "metadata": {
        "id": "8GWlJChhY_ZI"
      },
      "source": [
        "### Compiling the ANN"
      ]
    },
    {
      "cell_type": "code",
      "metadata": {
        "id": "fG3RrwDXZEaS"
      },
      "source": [
        "model.compile(optimizer = 'adam', loss = 'binary_crossentropy', metrics = ['accuracy'])"
      ],
      "execution_count": 23,
      "outputs": []
    },
    {
      "cell_type": "code",
      "metadata": {
        "id": "N0Fn4B4AztsU"
      },
      "source": [
        "# from tensorflow import keras\n",
        "# opt = keras.optimizers.Adadelta(learning_rate=0.01)\n",
        "# model.compile(loss='binary_crossentropy', optimizer=opt)"
      ],
      "execution_count": 24,
      "outputs": []
    },
    {
      "cell_type": "markdown",
      "metadata": {
        "id": "0QR_G5u7ZLSM"
      },
      "source": [
        "### Training the ANN on the Training set"
      ]
    },
    {
      "cell_type": "code",
      "metadata": {
        "id": "nHZ-LKv_ZRb3",
        "colab": {
          "base_uri": "https://localhost:8080/"
        },
        "outputId": "2c6d2715-1d77-4f0a-b443-b2a6a9921ea2"
      },
      "source": [
        "modell=model.fit(X_train,y_train,batch_size=42,epochs = 200)"
      ],
      "execution_count": 25,
      "outputs": [
        {
          "output_type": "stream",
          "text": [
            "Epoch 1/200\n",
            "191/191 [==============================] - 1s 3ms/step - loss: 0.5813 - accuracy: 0.7175\n",
            "Epoch 2/200\n",
            "191/191 [==============================] - 0s 3ms/step - loss: 0.4657 - accuracy: 0.7986\n",
            "Epoch 3/200\n",
            "191/191 [==============================] - 0s 3ms/step - loss: 0.4484 - accuracy: 0.8055\n",
            "Epoch 4/200\n",
            "191/191 [==============================] - 0s 3ms/step - loss: 0.4319 - accuracy: 0.8140\n",
            "Epoch 5/200\n",
            "191/191 [==============================] - 0s 2ms/step - loss: 0.4141 - accuracy: 0.8264\n",
            "Epoch 6/200\n",
            "191/191 [==============================] - 0s 2ms/step - loss: 0.3965 - accuracy: 0.8363\n",
            "Epoch 7/200\n",
            "191/191 [==============================] - 0s 2ms/step - loss: 0.3896 - accuracy: 0.8376\n",
            "Epoch 8/200\n",
            "191/191 [==============================] - 0s 2ms/step - loss: 0.3806 - accuracy: 0.8425\n",
            "Epoch 9/200\n",
            "191/191 [==============================] - 0s 3ms/step - loss: 0.3797 - accuracy: 0.8480\n",
            "Epoch 10/200\n",
            "191/191 [==============================] - 0s 2ms/step - loss: 0.3815 - accuracy: 0.8449\n",
            "Epoch 11/200\n",
            "191/191 [==============================] - 0s 2ms/step - loss: 0.3721 - accuracy: 0.8511\n",
            "Epoch 12/200\n",
            "191/191 [==============================] - 0s 2ms/step - loss: 0.3731 - accuracy: 0.8468\n",
            "Epoch 13/200\n",
            "191/191 [==============================] - 0s 2ms/step - loss: 0.3651 - accuracy: 0.8508\n",
            "Epoch 14/200\n",
            "191/191 [==============================] - 0s 2ms/step - loss: 0.3692 - accuracy: 0.8490\n",
            "Epoch 15/200\n",
            "191/191 [==============================] - 0s 2ms/step - loss: 0.3627 - accuracy: 0.8525\n",
            "Epoch 16/200\n",
            "191/191 [==============================] - 0s 2ms/step - loss: 0.3655 - accuracy: 0.8510\n",
            "Epoch 17/200\n",
            "191/191 [==============================] - 0s 2ms/step - loss: 0.3591 - accuracy: 0.8522\n",
            "Epoch 18/200\n",
            "191/191 [==============================] - 0s 2ms/step - loss: 0.3591 - accuracy: 0.8554\n",
            "Epoch 19/200\n",
            "191/191 [==============================] - 0s 2ms/step - loss: 0.3583 - accuracy: 0.8540\n",
            "Epoch 20/200\n",
            "191/191 [==============================] - 0s 2ms/step - loss: 0.3547 - accuracy: 0.8574\n",
            "Epoch 21/200\n",
            "191/191 [==============================] - 0s 2ms/step - loss: 0.3553 - accuracy: 0.8572\n",
            "Epoch 22/200\n",
            "191/191 [==============================] - 0s 2ms/step - loss: 0.3541 - accuracy: 0.8545\n",
            "Epoch 23/200\n",
            "191/191 [==============================] - 0s 2ms/step - loss: 0.3523 - accuracy: 0.8540\n",
            "Epoch 24/200\n",
            "191/191 [==============================] - 0s 3ms/step - loss: 0.3550 - accuracy: 0.8583\n",
            "Epoch 25/200\n",
            "191/191 [==============================] - 0s 2ms/step - loss: 0.3507 - accuracy: 0.8547\n",
            "Epoch 26/200\n",
            "191/191 [==============================] - 1s 3ms/step - loss: 0.3459 - accuracy: 0.8565\n",
            "Epoch 27/200\n",
            "191/191 [==============================] - 0s 3ms/step - loss: 0.3528 - accuracy: 0.8568\n",
            "Epoch 28/200\n",
            "191/191 [==============================] - 0s 2ms/step - loss: 0.3505 - accuracy: 0.8589\n",
            "Epoch 29/200\n",
            "191/191 [==============================] - 0s 2ms/step - loss: 0.3485 - accuracy: 0.8576\n",
            "Epoch 30/200\n",
            "191/191 [==============================] - 0s 3ms/step - loss: 0.3493 - accuracy: 0.8584\n",
            "Epoch 31/200\n",
            "191/191 [==============================] - 1s 3ms/step - loss: 0.3474 - accuracy: 0.8589\n",
            "Epoch 32/200\n",
            "191/191 [==============================] - 1s 3ms/step - loss: 0.3478 - accuracy: 0.8594\n",
            "Epoch 33/200\n",
            "191/191 [==============================] - 1s 3ms/step - loss: 0.3461 - accuracy: 0.8575\n",
            "Epoch 34/200\n",
            "191/191 [==============================] - 1s 3ms/step - loss: 0.3473 - accuracy: 0.8587\n",
            "Epoch 35/200\n",
            "191/191 [==============================] - 1s 3ms/step - loss: 0.3443 - accuracy: 0.8601\n",
            "Epoch 36/200\n",
            "191/191 [==============================] - 1s 3ms/step - loss: 0.3474 - accuracy: 0.8560\n",
            "Epoch 37/200\n",
            "191/191 [==============================] - 0s 3ms/step - loss: 0.3410 - accuracy: 0.8597\n",
            "Epoch 38/200\n",
            "191/191 [==============================] - 0s 3ms/step - loss: 0.3416 - accuracy: 0.8590\n",
            "Epoch 39/200\n",
            "191/191 [==============================] - 0s 3ms/step - loss: 0.3468 - accuracy: 0.8576\n",
            "Epoch 40/200\n",
            "191/191 [==============================] - 0s 2ms/step - loss: 0.3422 - accuracy: 0.8605\n",
            "Epoch 41/200\n",
            "191/191 [==============================] - 0s 2ms/step - loss: 0.3407 - accuracy: 0.8611\n",
            "Epoch 42/200\n",
            "191/191 [==============================] - 0s 3ms/step - loss: 0.3403 - accuracy: 0.8606\n",
            "Epoch 43/200\n",
            "191/191 [==============================] - 0s 2ms/step - loss: 0.3377 - accuracy: 0.8595\n",
            "Epoch 44/200\n",
            "191/191 [==============================] - 0s 3ms/step - loss: 0.3420 - accuracy: 0.8577\n",
            "Epoch 45/200\n",
            "191/191 [==============================] - 0s 2ms/step - loss: 0.3360 - accuracy: 0.8652\n",
            "Epoch 46/200\n",
            "191/191 [==============================] - 0s 2ms/step - loss: 0.3368 - accuracy: 0.8599\n",
            "Epoch 47/200\n",
            "191/191 [==============================] - 0s 3ms/step - loss: 0.3364 - accuracy: 0.8619\n",
            "Epoch 48/200\n",
            "191/191 [==============================] - 0s 2ms/step - loss: 0.3405 - accuracy: 0.8587\n",
            "Epoch 49/200\n",
            "191/191 [==============================] - 0s 2ms/step - loss: 0.3398 - accuracy: 0.8650\n",
            "Epoch 50/200\n",
            "191/191 [==============================] - 0s 2ms/step - loss: 0.3366 - accuracy: 0.8627\n",
            "Epoch 51/200\n",
            "191/191 [==============================] - 0s 2ms/step - loss: 0.3338 - accuracy: 0.8662\n",
            "Epoch 52/200\n",
            "191/191 [==============================] - 0s 2ms/step - loss: 0.3402 - accuracy: 0.8609\n",
            "Epoch 53/200\n",
            "191/191 [==============================] - 0s 2ms/step - loss: 0.3333 - accuracy: 0.8643\n",
            "Epoch 54/200\n",
            "191/191 [==============================] - 0s 2ms/step - loss: 0.3378 - accuracy: 0.8639\n",
            "Epoch 55/200\n",
            "191/191 [==============================] - 0s 3ms/step - loss: 0.3338 - accuracy: 0.8640\n",
            "Epoch 56/200\n",
            "191/191 [==============================] - 0s 3ms/step - loss: 0.3335 - accuracy: 0.8631\n",
            "Epoch 57/200\n",
            "191/191 [==============================] - 1s 3ms/step - loss: 0.3317 - accuracy: 0.8651\n",
            "Epoch 58/200\n",
            "191/191 [==============================] - 0s 2ms/step - loss: 0.3329 - accuracy: 0.8643\n",
            "Epoch 59/200\n",
            "191/191 [==============================] - 0s 2ms/step - loss: 0.3330 - accuracy: 0.8635\n",
            "Epoch 60/200\n",
            "191/191 [==============================] - 1s 3ms/step - loss: 0.3356 - accuracy: 0.8631\n",
            "Epoch 61/200\n",
            "191/191 [==============================] - 0s 3ms/step - loss: 0.3372 - accuracy: 0.8616\n",
            "Epoch 62/200\n",
            "191/191 [==============================] - 0s 3ms/step - loss: 0.3307 - accuracy: 0.8621\n",
            "Epoch 63/200\n",
            "191/191 [==============================] - 0s 3ms/step - loss: 0.3333 - accuracy: 0.8641\n",
            "Epoch 64/200\n",
            "191/191 [==============================] - 0s 2ms/step - loss: 0.3273 - accuracy: 0.8659\n",
            "Epoch 65/200\n",
            "191/191 [==============================] - 0s 2ms/step - loss: 0.3293 - accuracy: 0.8645\n",
            "Epoch 66/200\n",
            "191/191 [==============================] - 0s 3ms/step - loss: 0.3279 - accuracy: 0.8652\n",
            "Epoch 67/200\n",
            "191/191 [==============================] - 0s 2ms/step - loss: 0.3284 - accuracy: 0.8675\n",
            "Epoch 68/200\n",
            "191/191 [==============================] - 0s 2ms/step - loss: 0.3333 - accuracy: 0.8666\n",
            "Epoch 69/200\n",
            "191/191 [==============================] - 1s 3ms/step - loss: 0.3289 - accuracy: 0.8655\n",
            "Epoch 70/200\n",
            "191/191 [==============================] - 1s 3ms/step - loss: 0.3265 - accuracy: 0.8684\n",
            "Epoch 71/200\n",
            "191/191 [==============================] - 0s 2ms/step - loss: 0.3279 - accuracy: 0.8696\n",
            "Epoch 72/200\n",
            "191/191 [==============================] - 0s 2ms/step - loss: 0.3252 - accuracy: 0.8656\n",
            "Epoch 73/200\n",
            "191/191 [==============================] - 0s 2ms/step - loss: 0.3250 - accuracy: 0.8670\n",
            "Epoch 74/200\n",
            "191/191 [==============================] - 0s 2ms/step - loss: 0.3260 - accuracy: 0.8676\n",
            "Epoch 75/200\n",
            "191/191 [==============================] - 0s 2ms/step - loss: 0.3225 - accuracy: 0.8679\n",
            "Epoch 76/200\n",
            "191/191 [==============================] - 0s 3ms/step - loss: 0.3285 - accuracy: 0.8683\n",
            "Epoch 77/200\n",
            "191/191 [==============================] - 0s 2ms/step - loss: 0.3253 - accuracy: 0.8677\n",
            "Epoch 78/200\n",
            "191/191 [==============================] - 0s 2ms/step - loss: 0.3271 - accuracy: 0.8659\n",
            "Epoch 79/200\n",
            "191/191 [==============================] - 0s 2ms/step - loss: 0.3274 - accuracy: 0.8665\n",
            "Epoch 80/200\n",
            "191/191 [==============================] - 0s 2ms/step - loss: 0.3266 - accuracy: 0.8661\n",
            "Epoch 81/200\n",
            "191/191 [==============================] - 0s 2ms/step - loss: 0.3225 - accuracy: 0.8691\n",
            "Epoch 82/200\n",
            "191/191 [==============================] - 0s 2ms/step - loss: 0.3235 - accuracy: 0.8714\n",
            "Epoch 83/200\n",
            "191/191 [==============================] - 0s 2ms/step - loss: 0.3233 - accuracy: 0.8695\n",
            "Epoch 84/200\n",
            "191/191 [==============================] - 0s 2ms/step - loss: 0.3156 - accuracy: 0.8708\n",
            "Epoch 85/200\n",
            "191/191 [==============================] - 0s 2ms/step - loss: 0.3268 - accuracy: 0.8619\n",
            "Epoch 86/200\n",
            "191/191 [==============================] - 0s 2ms/step - loss: 0.3217 - accuracy: 0.8689\n",
            "Epoch 87/200\n",
            "191/191 [==============================] - 0s 2ms/step - loss: 0.3214 - accuracy: 0.8689\n",
            "Epoch 88/200\n",
            "191/191 [==============================] - 0s 2ms/step - loss: 0.3225 - accuracy: 0.8689\n",
            "Epoch 89/200\n",
            "191/191 [==============================] - 0s 2ms/step - loss: 0.3202 - accuracy: 0.8686\n",
            "Epoch 90/200\n",
            "191/191 [==============================] - 0s 3ms/step - loss: 0.3185 - accuracy: 0.8676\n",
            "Epoch 91/200\n",
            "191/191 [==============================] - 0s 2ms/step - loss: 0.3184 - accuracy: 0.8679\n",
            "Epoch 92/200\n",
            "191/191 [==============================] - 0s 2ms/step - loss: 0.3167 - accuracy: 0.8701\n",
            "Epoch 93/200\n",
            "191/191 [==============================] - 0s 2ms/step - loss: 0.3235 - accuracy: 0.8695\n",
            "Epoch 94/200\n",
            "191/191 [==============================] - 0s 3ms/step - loss: 0.3188 - accuracy: 0.8709\n",
            "Epoch 95/200\n",
            "191/191 [==============================] - 1s 3ms/step - loss: 0.3245 - accuracy: 0.8705\n",
            "Epoch 96/200\n",
            "191/191 [==============================] - 1s 3ms/step - loss: 0.3192 - accuracy: 0.8700\n",
            "Epoch 97/200\n",
            "191/191 [==============================] - 0s 2ms/step - loss: 0.3181 - accuracy: 0.8705\n",
            "Epoch 98/200\n",
            "191/191 [==============================] - 1s 3ms/step - loss: 0.3184 - accuracy: 0.8699\n",
            "Epoch 99/200\n",
            "191/191 [==============================] - 0s 2ms/step - loss: 0.3183 - accuracy: 0.8685\n",
            "Epoch 100/200\n",
            "191/191 [==============================] - 0s 2ms/step - loss: 0.3198 - accuracy: 0.8686\n",
            "Epoch 101/200\n",
            "191/191 [==============================] - 0s 2ms/step - loss: 0.3212 - accuracy: 0.8660\n",
            "Epoch 102/200\n",
            "191/191 [==============================] - 1s 3ms/step - loss: 0.3179 - accuracy: 0.8687\n",
            "Epoch 103/200\n",
            "191/191 [==============================] - 1s 3ms/step - loss: 0.3235 - accuracy: 0.8660\n",
            "Epoch 104/200\n",
            "191/191 [==============================] - 1s 3ms/step - loss: 0.3217 - accuracy: 0.8690\n",
            "Epoch 105/200\n",
            "191/191 [==============================] - 0s 2ms/step - loss: 0.3164 - accuracy: 0.8700\n",
            "Epoch 106/200\n",
            "191/191 [==============================] - 0s 3ms/step - loss: 0.3220 - accuracy: 0.8673\n",
            "Epoch 107/200\n",
            "191/191 [==============================] - 0s 2ms/step - loss: 0.3158 - accuracy: 0.8720\n",
            "Epoch 108/200\n",
            "191/191 [==============================] - 0s 2ms/step - loss: 0.3149 - accuracy: 0.8691\n",
            "Epoch 109/200\n",
            "191/191 [==============================] - 0s 3ms/step - loss: 0.3175 - accuracy: 0.8715\n",
            "Epoch 110/200\n",
            "191/191 [==============================] - 0s 2ms/step - loss: 0.3181 - accuracy: 0.8695\n",
            "Epoch 111/200\n",
            "191/191 [==============================] - 0s 3ms/step - loss: 0.3161 - accuracy: 0.8695\n",
            "Epoch 112/200\n",
            "191/191 [==============================] - 0s 2ms/step - loss: 0.3111 - accuracy: 0.8715\n",
            "Epoch 113/200\n",
            "191/191 [==============================] - 1s 3ms/step - loss: 0.3172 - accuracy: 0.8686\n",
            "Epoch 114/200\n",
            "191/191 [==============================] - 0s 2ms/step - loss: 0.3156 - accuracy: 0.8719\n",
            "Epoch 115/200\n",
            "191/191 [==============================] - 0s 2ms/step - loss: 0.3209 - accuracy: 0.8684\n",
            "Epoch 116/200\n",
            "191/191 [==============================] - 0s 2ms/step - loss: 0.3172 - accuracy: 0.8700\n",
            "Epoch 117/200\n",
            "191/191 [==============================] - 0s 3ms/step - loss: 0.3141 - accuracy: 0.8710\n",
            "Epoch 118/200\n",
            "191/191 [==============================] - 0s 2ms/step - loss: 0.3090 - accuracy: 0.8695\n",
            "Epoch 119/200\n",
            "191/191 [==============================] - 0s 2ms/step - loss: 0.3150 - accuracy: 0.8690\n",
            "Epoch 120/200\n",
            "191/191 [==============================] - 0s 2ms/step - loss: 0.3154 - accuracy: 0.8706\n",
            "Epoch 121/200\n",
            "191/191 [==============================] - 0s 2ms/step - loss: 0.3154 - accuracy: 0.8706\n",
            "Epoch 122/200\n",
            "191/191 [==============================] - 1s 3ms/step - loss: 0.3149 - accuracy: 0.8739\n",
            "Epoch 123/200\n",
            "191/191 [==============================] - 1s 3ms/step - loss: 0.3121 - accuracy: 0.8731\n",
            "Epoch 124/200\n",
            "191/191 [==============================] - 0s 2ms/step - loss: 0.3123 - accuracy: 0.8742\n",
            "Epoch 125/200\n",
            "191/191 [==============================] - 1s 3ms/step - loss: 0.3127 - accuracy: 0.8708\n",
            "Epoch 126/200\n",
            "191/191 [==============================] - 0s 2ms/step - loss: 0.3068 - accuracy: 0.8710\n",
            "Epoch 127/200\n",
            "191/191 [==============================] - 1s 3ms/step - loss: 0.3105 - accuracy: 0.8709\n",
            "Epoch 128/200\n",
            "191/191 [==============================] - 1s 3ms/step - loss: 0.3111 - accuracy: 0.8701\n",
            "Epoch 129/200\n",
            "191/191 [==============================] - 1s 3ms/step - loss: 0.3083 - accuracy: 0.8741\n",
            "Epoch 130/200\n",
            "191/191 [==============================] - 0s 3ms/step - loss: 0.3102 - accuracy: 0.8740\n",
            "Epoch 131/200\n",
            "191/191 [==============================] - 0s 3ms/step - loss: 0.3155 - accuracy: 0.8701\n",
            "Epoch 132/200\n",
            "191/191 [==============================] - 0s 2ms/step - loss: 0.3117 - accuracy: 0.8733\n",
            "Epoch 133/200\n",
            "191/191 [==============================] - 0s 3ms/step - loss: 0.3099 - accuracy: 0.8725\n",
            "Epoch 134/200\n",
            "191/191 [==============================] - 0s 2ms/step - loss: 0.3152 - accuracy: 0.8709\n",
            "Epoch 135/200\n",
            "191/191 [==============================] - 0s 2ms/step - loss: 0.3136 - accuracy: 0.8708\n",
            "Epoch 136/200\n",
            "191/191 [==============================] - 0s 2ms/step - loss: 0.3102 - accuracy: 0.8727\n",
            "Epoch 137/200\n",
            "191/191 [==============================] - 0s 2ms/step - loss: 0.3134 - accuracy: 0.8737\n",
            "Epoch 138/200\n",
            "191/191 [==============================] - 0s 3ms/step - loss: 0.3101 - accuracy: 0.8710\n",
            "Epoch 139/200\n",
            "191/191 [==============================] - 0s 2ms/step - loss: 0.3081 - accuracy: 0.8744\n",
            "Epoch 140/200\n",
            "191/191 [==============================] - 0s 3ms/step - loss: 0.3094 - accuracy: 0.8740\n",
            "Epoch 141/200\n",
            "191/191 [==============================] - 0s 2ms/step - loss: 0.3120 - accuracy: 0.8723\n",
            "Epoch 142/200\n",
            "191/191 [==============================] - 0s 3ms/step - loss: 0.3084 - accuracy: 0.8739\n",
            "Epoch 143/200\n",
            "191/191 [==============================] - 0s 3ms/step - loss: 0.3141 - accuracy: 0.8726\n",
            "Epoch 144/200\n",
            "191/191 [==============================] - 0s 3ms/step - loss: 0.3088 - accuracy: 0.8700\n",
            "Epoch 145/200\n",
            "191/191 [==============================] - 0s 2ms/step - loss: 0.3086 - accuracy: 0.8769\n",
            "Epoch 146/200\n",
            "191/191 [==============================] - 0s 2ms/step - loss: 0.3089 - accuracy: 0.8735\n",
            "Epoch 147/200\n",
            "191/191 [==============================] - 0s 3ms/step - loss: 0.3094 - accuracy: 0.8734\n",
            "Epoch 148/200\n",
            "191/191 [==============================] - 0s 3ms/step - loss: 0.3032 - accuracy: 0.8754\n",
            "Epoch 149/200\n",
            "191/191 [==============================] - 0s 2ms/step - loss: 0.3128 - accuracy: 0.8687\n",
            "Epoch 150/200\n",
            "191/191 [==============================] - 0s 2ms/step - loss: 0.3109 - accuracy: 0.8736\n",
            "Epoch 151/200\n",
            "191/191 [==============================] - 0s 3ms/step - loss: 0.3089 - accuracy: 0.8727\n",
            "Epoch 152/200\n",
            "191/191 [==============================] - 1s 3ms/step - loss: 0.3020 - accuracy: 0.8734\n",
            "Epoch 153/200\n",
            "191/191 [==============================] - 1s 3ms/step - loss: 0.3126 - accuracy: 0.8721\n",
            "Epoch 154/200\n",
            "191/191 [==============================] - 0s 3ms/step - loss: 0.3090 - accuracy: 0.8741\n",
            "Epoch 155/200\n",
            "191/191 [==============================] - 1s 3ms/step - loss: 0.3074 - accuracy: 0.8736\n",
            "Epoch 156/200\n",
            "191/191 [==============================] - 1s 3ms/step - loss: 0.3045 - accuracy: 0.8759\n",
            "Epoch 157/200\n",
            "191/191 [==============================] - 1s 3ms/step - loss: 0.3063 - accuracy: 0.8742\n",
            "Epoch 158/200\n",
            "191/191 [==============================] - 0s 3ms/step - loss: 0.3037 - accuracy: 0.8748\n",
            "Epoch 159/200\n",
            "191/191 [==============================] - 1s 3ms/step - loss: 0.3082 - accuracy: 0.8714\n",
            "Epoch 160/200\n",
            "191/191 [==============================] - 1s 3ms/step - loss: 0.3036 - accuracy: 0.8777\n",
            "Epoch 161/200\n",
            "191/191 [==============================] - 0s 3ms/step - loss: 0.3078 - accuracy: 0.8711\n",
            "Epoch 162/200\n",
            "191/191 [==============================] - 0s 2ms/step - loss: 0.3054 - accuracy: 0.8723\n",
            "Epoch 163/200\n",
            "191/191 [==============================] - 1s 3ms/step - loss: 0.3065 - accuracy: 0.8736\n",
            "Epoch 164/200\n",
            "191/191 [==============================] - 0s 2ms/step - loss: 0.3119 - accuracy: 0.8727\n",
            "Epoch 165/200\n",
            "191/191 [==============================] - 0s 3ms/step - loss: 0.3064 - accuracy: 0.8695\n",
            "Epoch 166/200\n",
            "191/191 [==============================] - 1s 3ms/step - loss: 0.2998 - accuracy: 0.8775\n",
            "Epoch 167/200\n",
            "191/191 [==============================] - 1s 3ms/step - loss: 0.3081 - accuracy: 0.8729\n",
            "Epoch 168/200\n",
            "191/191 [==============================] - 1s 3ms/step - loss: 0.3067 - accuracy: 0.8712\n",
            "Epoch 169/200\n",
            "191/191 [==============================] - 1s 3ms/step - loss: 0.3035 - accuracy: 0.8764\n",
            "Epoch 170/200\n",
            "191/191 [==============================] - 1s 3ms/step - loss: 0.3027 - accuracy: 0.8735\n",
            "Epoch 171/200\n",
            "191/191 [==============================] - 1s 3ms/step - loss: 0.3065 - accuracy: 0.8723\n",
            "Epoch 172/200\n",
            "191/191 [==============================] - 0s 2ms/step - loss: 0.3059 - accuracy: 0.8720\n",
            "Epoch 173/200\n",
            "191/191 [==============================] - 1s 3ms/step - loss: 0.3029 - accuracy: 0.8741\n",
            "Epoch 174/200\n",
            "191/191 [==============================] - 1s 3ms/step - loss: 0.3081 - accuracy: 0.8700\n",
            "Epoch 175/200\n",
            "191/191 [==============================] - 1s 3ms/step - loss: 0.3050 - accuracy: 0.8748\n",
            "Epoch 176/200\n",
            "191/191 [==============================] - 1s 3ms/step - loss: 0.3060 - accuracy: 0.8724\n",
            "Epoch 177/200\n",
            "191/191 [==============================] - 1s 3ms/step - loss: 0.3053 - accuracy: 0.8733\n",
            "Epoch 178/200\n",
            "191/191 [==============================] - 0s 3ms/step - loss: 0.3027 - accuracy: 0.8745\n",
            "Epoch 179/200\n",
            "191/191 [==============================] - 1s 3ms/step - loss: 0.3061 - accuracy: 0.8745\n",
            "Epoch 180/200\n",
            "191/191 [==============================] - 0s 3ms/step - loss: 0.2995 - accuracy: 0.8761\n",
            "Epoch 181/200\n",
            "191/191 [==============================] - 0s 2ms/step - loss: 0.3013 - accuracy: 0.8750\n",
            "Epoch 182/200\n",
            "191/191 [==============================] - 0s 3ms/step - loss: 0.3024 - accuracy: 0.8726\n",
            "Epoch 183/200\n",
            "191/191 [==============================] - 1s 3ms/step - loss: 0.3077 - accuracy: 0.8734\n",
            "Epoch 184/200\n",
            "191/191 [==============================] - 1s 3ms/step - loss: 0.3061 - accuracy: 0.8714\n",
            "Epoch 185/200\n",
            "191/191 [==============================] - 1s 3ms/step - loss: 0.3054 - accuracy: 0.8730\n",
            "Epoch 186/200\n",
            "191/191 [==============================] - 1s 3ms/step - loss: 0.3048 - accuracy: 0.8720\n",
            "Epoch 187/200\n",
            "191/191 [==============================] - 0s 3ms/step - loss: 0.3069 - accuracy: 0.8727\n",
            "Epoch 188/200\n",
            "191/191 [==============================] - 1s 3ms/step - loss: 0.3009 - accuracy: 0.8754\n",
            "Epoch 189/200\n",
            "191/191 [==============================] - 1s 3ms/step - loss: 0.2940 - accuracy: 0.8792\n",
            "Epoch 190/200\n",
            "191/191 [==============================] - 1s 3ms/step - loss: 0.2969 - accuracy: 0.8808\n",
            "Epoch 191/200\n",
            "191/191 [==============================] - 1s 3ms/step - loss: 0.3026 - accuracy: 0.8781\n",
            "Epoch 192/200\n",
            "191/191 [==============================] - 1s 3ms/step - loss: 0.3036 - accuracy: 0.8758\n",
            "Epoch 193/200\n",
            "191/191 [==============================] - 0s 2ms/step - loss: 0.3009 - accuracy: 0.8748\n",
            "Epoch 194/200\n",
            "191/191 [==============================] - 1s 3ms/step - loss: 0.3021 - accuracy: 0.8765\n",
            "Epoch 195/200\n",
            "191/191 [==============================] - 0s 3ms/step - loss: 0.3015 - accuracy: 0.8764\n",
            "Epoch 196/200\n",
            "191/191 [==============================] - 1s 3ms/step - loss: 0.3022 - accuracy: 0.8744\n",
            "Epoch 197/200\n",
            "191/191 [==============================] - 1s 3ms/step - loss: 0.2980 - accuracy: 0.8775\n",
            "Epoch 198/200\n",
            "191/191 [==============================] - 1s 3ms/step - loss: 0.3000 - accuracy: 0.8776\n",
            "Epoch 199/200\n",
            "191/191 [==============================] - 1s 3ms/step - loss: 0.3013 - accuracy: 0.8731\n",
            "Epoch 200/200\n",
            "191/191 [==============================] - 1s 3ms/step - loss: 0.2961 - accuracy: 0.8777\n"
          ],
          "name": "stdout"
        }
      ]
    },
    {
      "cell_type": "code",
      "metadata": {
        "colab": {
          "base_uri": "https://localhost:8080/",
          "height": 417
        },
        "id": "JmrVRt8kbvmU",
        "outputId": "aaacb79c-cc94-44d1-8b12-ca98f65fbbad"
      },
      "source": [
        "pd.DataFrame(modell.history)"
      ],
      "execution_count": 26,
      "outputs": [
        {
          "output_type": "execute_result",
          "data": {
            "text/html": [
              "<div>\n",
              "<style scoped>\n",
              "    .dataframe tbody tr th:only-of-type {\n",
              "        vertical-align: middle;\n",
              "    }\n",
              "\n",
              "    .dataframe tbody tr th {\n",
              "        vertical-align: top;\n",
              "    }\n",
              "\n",
              "    .dataframe thead th {\n",
              "        text-align: right;\n",
              "    }\n",
              "</style>\n",
              "<table border=\"1\" class=\"dataframe\">\n",
              "  <thead>\n",
              "    <tr style=\"text-align: right;\">\n",
              "      <th></th>\n",
              "      <th>loss</th>\n",
              "      <th>accuracy</th>\n",
              "    </tr>\n",
              "  </thead>\n",
              "  <tbody>\n",
              "    <tr>\n",
              "      <th>0</th>\n",
              "      <td>0.581272</td>\n",
              "      <td>0.717500</td>\n",
              "    </tr>\n",
              "    <tr>\n",
              "      <th>1</th>\n",
              "      <td>0.465672</td>\n",
              "      <td>0.798625</td>\n",
              "    </tr>\n",
              "    <tr>\n",
              "      <th>2</th>\n",
              "      <td>0.448373</td>\n",
              "      <td>0.805500</td>\n",
              "    </tr>\n",
              "    <tr>\n",
              "      <th>3</th>\n",
              "      <td>0.431893</td>\n",
              "      <td>0.814000</td>\n",
              "    </tr>\n",
              "    <tr>\n",
              "      <th>4</th>\n",
              "      <td>0.414076</td>\n",
              "      <td>0.826375</td>\n",
              "    </tr>\n",
              "    <tr>\n",
              "      <th>...</th>\n",
              "      <td>...</td>\n",
              "      <td>...</td>\n",
              "    </tr>\n",
              "    <tr>\n",
              "      <th>195</th>\n",
              "      <td>0.302232</td>\n",
              "      <td>0.874375</td>\n",
              "    </tr>\n",
              "    <tr>\n",
              "      <th>196</th>\n",
              "      <td>0.297995</td>\n",
              "      <td>0.877500</td>\n",
              "    </tr>\n",
              "    <tr>\n",
              "      <th>197</th>\n",
              "      <td>0.300049</td>\n",
              "      <td>0.877625</td>\n",
              "    </tr>\n",
              "    <tr>\n",
              "      <th>198</th>\n",
              "      <td>0.301280</td>\n",
              "      <td>0.873125</td>\n",
              "    </tr>\n",
              "    <tr>\n",
              "      <th>199</th>\n",
              "      <td>0.296117</td>\n",
              "      <td>0.877750</td>\n",
              "    </tr>\n",
              "  </tbody>\n",
              "</table>\n",
              "<p>200 rows × 2 columns</p>\n",
              "</div>"
            ],
            "text/plain": [
              "         loss  accuracy\n",
              "0    0.581272  0.717500\n",
              "1    0.465672  0.798625\n",
              "2    0.448373  0.805500\n",
              "3    0.431893  0.814000\n",
              "4    0.414076  0.826375\n",
              "..        ...       ...\n",
              "195  0.302232  0.874375\n",
              "196  0.297995  0.877500\n",
              "197  0.300049  0.877625\n",
              "198  0.301280  0.873125\n",
              "199  0.296117  0.877750\n",
              "\n",
              "[200 rows x 2 columns]"
            ]
          },
          "metadata": {},
          "execution_count": 26
        }
      ]
    },
    {
      "cell_type": "code",
      "metadata": {
        "colab": {
          "base_uri": "https://localhost:8080/",
          "height": 300
        },
        "id": "Fixk-22jafmZ",
        "outputId": "119550ee-256d-44ea-bb41-7df2f81c0079"
      },
      "source": [
        "plt.plot(pd.DataFrame(modell.history))"
      ],
      "execution_count": 27,
      "outputs": [
        {
          "output_type": "execute_result",
          "data": {
            "text/plain": [
              "[<matplotlib.lines.Line2D at 0x7f0c61811a90>,\n",
              " <matplotlib.lines.Line2D at 0x7f0c61811c90>]"
            ]
          },
          "metadata": {},
          "execution_count": 27
        },
        {
          "output_type": "display_data",
          "data": {
            "image/png": "[encoded data removed]",
            "text/plain": [
              "<Figure size 432x288 with 1 Axes>"
            ]
          },
          "metadata": {
            "needs_background": "light"
          }
        }
      ]
    },
    {
      "cell_type": "code",
      "metadata": {
        "colab": {
          "base_uri": "https://localhost:8080/"
        },
        "id": "NIYESsqAYoRh",
        "outputId": "beeb2092-5dd7-4f70-da0a-64cfca35da60"
      },
      "source": [
        "model.summary()"
      ],
      "execution_count": 28,
      "outputs": [
        {
          "output_type": "stream",
          "text": [
            "Model: \"sequential\"\n",
            "_________________________________________________________________\n",
            "Layer (type)                 Output Shape              Param #   \n",
            "=================================================================\n",
            "dense (Dense)                (None, 60)                780       \n",
            "_________________________________________________________________\n",
            "dropout (Dropout)            (None, 60)                0         \n",
            "_________________________________________________________________\n",
            "dense_1 (Dense)              (None, 40)                2440      \n",
            "_________________________________________________________________\n",
            "dropout_1 (Dropout)          (None, 40)                0         \n",
            "_________________________________________________________________\n",
            "dense_2 (Dense)              (None, 20)                820       \n",
            "_________________________________________________________________\n",
            "dropout_2 (Dropout)          (None, 20)                0         \n",
            "_________________________________________________________________\n",
            "dropout_3 (Dropout)          (None, 20)                0         \n",
            "_________________________________________________________________\n",
            "dense_3 (Dense)              (None, 10)                210       \n",
            "_________________________________________________________________\n",
            "dropout_4 (Dropout)          (None, 10)                0         \n",
            "_________________________________________________________________\n",
            "dense_4 (Dense)              (None, 1)                 11        \n",
            "=================================================================\n",
            "Total params: 4,261\n",
            "Trainable params: 4,261\n",
            "Non-trainable params: 0\n",
            "_________________________________________________________________\n"
          ],
          "name": "stdout"
        }
      ]
    },
    {
      "cell_type": "code",
      "metadata": {
        "colab": {
          "base_uri": "https://localhost:8080/"
        },
        "id": "WGZ4sfq3Yzco",
        "outputId": "d83f4bf3-bbc2-4dd3-8deb-6d0e94221f61"
      },
      "source": [
        "!pip3 install ann_visualizer\n",
        "from ann_visualizer.visualize import ann_viz\n",
        "ann_viz(model, title = \"ANN\")"
      ],
      "execution_count": 29,
      "outputs": [
        {
          "output_type": "stream",
          "text": [
            "Requirement already satisfied: ann_visualizer in /usr/local/lib/python3.7/dist-packages (2.5)\n"
          ],
          "name": "stdout"
        }
      ]
    },
    {
      "cell_type": "code",
      "metadata": {
        "colab": {
          "base_uri": "https://localhost:8080/"
        },
        "id": "N5JcIzADSUCo",
        "outputId": "31918317-0b04-4a90-a485-58d97eaf0b7e"
      },
      "source": [
        "model.evaluate(X_train,y_train)"
      ],
      "execution_count": 30,
      "outputs": [
        {
          "output_type": "stream",
          "text": [
            "250/250 [==============================] - 1s 2ms/step - loss: 0.2548 - accuracy: 0.8926\n"
          ],
          "name": "stdout"
        },
        {
          "output_type": "execute_result",
          "data": {
            "text/plain": [
              "[0.254772424697876, 0.8926249742507935]"
            ]
          },
          "metadata": {},
          "execution_count": 30
        }
      ]
    },
    {
      "cell_type": "code",
      "metadata": {
        "colab": {
          "base_uri": "https://localhost:8080/"
        },
        "id": "Nq7nQrliS16r",
        "outputId": "2943f647-290f-41b2-e8b5-dc67208c119d"
      },
      "source": [
        "model.evaluate(X_test,y_test)"
      ],
      "execution_count": 31,
      "outputs": [
        {
          "output_type": "stream",
          "text": [
            "63/63 [==============================] - 0s 2ms/step - loss: 0.3610 - accuracy: 0.8610\n"
          ],
          "name": "stdout"
        },
        {
          "output_type": "execute_result",
          "data": {
            "text/plain": [
              "[0.36099934577941895, 0.8610000014305115]"
            ]
          },
          "metadata": {},
          "execution_count": 31
        }
      ]
    },
    {
      "cell_type": "markdown",
      "metadata": {
        "id": "u7yx47jPZt11"
      },
      "source": [
        "### Predicting the Test set results"
      ]
    },
    {
      "cell_type": "code",
      "metadata": {
        "id": "nIyEeQdRZwgs",
        "colab": {
          "base_uri": "https://localhost:8080/"
        },
        "outputId": "e2e44cbe-28d3-444a-9a17-d2b477ce7e43"
      },
      "source": [
        "y_pred = model.predict(X_test)\n",
        "y_pred = (y_pred > 0.5)\n",
        "print(np.concatenate((y_pred.reshape(len(y_pred),1), y_test.reshape(len(y_test),1)),1))"
      ],
      "execution_count": 32,
      "outputs": [
        {
          "output_type": "stream",
          "text": [
            "[[0 0]\n",
            " [0 1]\n",
            " [0 0]\n",
            " ...\n",
            " [0 0]\n",
            " [0 0]\n",
            " [0 0]]\n"
          ],
          "name": "stdout"
        }
      ]
    },
    {
      "cell_type": "markdown",
      "metadata": {
        "id": "o0oyfLWoaEGw"
      },
      "source": [
        "### Making the Confusion Matrix"
      ]
    },
    {
      "cell_type": "code",
      "metadata": {
        "id": "ci6K_r6LaF6P",
        "colab": {
          "base_uri": "https://localhost:8080/"
        },
        "outputId": "28163d59-be45-4fbb-d708-6d7ed7fa01c3"
      },
      "source": [
        "from sklearn.metrics import confusion_matrix, accuracy_score\n",
        "cm = confusion_matrix(y_test, y_pred)\n",
        "print(cm)\n",
        "accuracy_score(y_test, y_pred)"
      ],
      "execution_count": 33,
      "outputs": [
        {
          "output_type": "stream",
          "text": [
            "[[1513   82]\n",
            " [ 196  209]]\n"
          ],
          "name": "stdout"
        },
        {
          "output_type": "execute_result",
          "data": {
            "text/plain": [
              "0.861"
            ]
          },
          "metadata": {},
          "execution_count": 33
        }
      ]
    }
  ]
}